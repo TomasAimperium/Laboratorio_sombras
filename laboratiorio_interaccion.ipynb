{
 "cells": [
  {
   "cell_type": "code",
   "execution_count": 5,
   "id": "ae52c69a-05b5-473e-8349-6fa483fedfaf",
   "metadata": {},
   "outputs": [],
   "source": [
    "import numpy as np\n",
    "from numpy import sin,cos,tan\n",
    "from math import pi\n",
    "from IPython.display import clear_output\n",
    "import pandas as pd\n",
    "import matplotlib.pyplot as plt\n",
    "import seaborn as sns\n",
    "import random\n",
    "sns.set()"
   ]
  },
  {
   "cell_type": "code",
   "execution_count": 124,
   "id": "65007a05-908d-4d4d-8efb-176d3fbe7808",
   "metadata": {},
   "outputs": [],
   "source": [
    "conv = 2*pi/360\n",
    "A = 2\n",
    "s = 4\n",
    "h = 2\n",
    "\n",
    "def ratio(alp,bet,psi,S):\n",
    "    bet,alp,psi = conv*bet,conv*alp,conv*psi\n",
    "    \n",
    "    xb = -0.5*A*cos(bet) + S\n",
    "    yb = -0.5*A*sin(bet) + h\n",
    "    B = [xb,yb]\n",
    "    \n",
    "    xp = (0.5*A*(sin(alp) + cos(alp)*tan(psi)) + S*tan(bet))/(tan(bet) + tan(psi))\n",
    "    yp = tan(bet)*(xp - S) + h\n",
    "    P = [xp ,yp]\n",
    "    \n",
    "    d = np.sqrt((P[0] - B[0])**2 + (P[1] - B[1])**2)\n",
    "    \n",
    "    if (P[0] >= B[0]) and (d < A):\n",
    "        S = 1 - d/A\n",
    "    elif (P[0] >= B[0]) and (d >= A):\n",
    "        S = 0\n",
    "    elif (P[0] < B[0]):    \n",
    "        S = 1\n",
    "    return S\n",
    "\n",
    "def potencia0(alp0,psi):\n",
    "    P = A*sin(pi - conv*psi  - conv*alp0)\n",
    "    return P\n",
    "\n",
    "def potencia(alp1,alp0,psi,N):\n",
    "    P = A*ratio(alp0,alp1,psi,N)*sin(pi - conv*psi  - conv*alp1)\n",
    "    return P\n",
    "\n",
    "def potencia_rat(S,alp,psi):\n",
    "    P = A*S*sin(pi - conv*psi  - conv*alp)\n",
    "    return P"
   ]
  },
  {
   "cell_type": "code",
   "execution_count": 139,
   "id": "e1ab7395-a66c-43ea-a986-c107f498aaa6",
   "metadata": {},
   "outputs": [],
   "source": [
    "alp = [5,10,15,20,30,45]\n",
    "psi = 5\n",
    "\n",
    "potencias = []\n",
    "alpha = []\n",
    "for a1 in range(0,45,10):\n",
    "    for a2 in range(0,45,10):\n",
    "        for a3 in range(0,45,10):\n",
    "            for a4 in range(0,45,10):\n",
    "                for a5 in range(0,45,10):\n",
    "                    for a6 in range(0,45,10):\n",
    "                        alp = [a1,a2,a3,a4,a5,a6]\n",
    "                        I,J = [0],[0]\n",
    "                        S = [1]\n",
    "\n",
    "                        for i in range(len(alp)-1):\n",
    "                            for j in range(i+1,len(alp)):\n",
    "                                S.append(ratio(alp[i],alp[j],psi,(j-i)*s))\n",
    "                                I.append(i)\n",
    "                                J.append(j)\n",
    "                        ratios = pd.DataFrame({'i':I,'j':J,'S':S})\n",
    "                        jun = np.unique(ratios.j)\n",
    "                        rt = []\n",
    "                        for j in jun:\n",
    "                            rt.append(np.min(ratios[ratios.j == j].S))\n",
    "                        P = 0\n",
    "                        for i in range(len(alp)):\n",
    "                            P += potencia_rat(rt[i],alp[i],psi)\n",
    "                        potencias.append(P)\n",
    "                        alpha.append(alp)"
   ]
  },
  {
   "cell_type": "code",
   "execution_count": 162,
   "id": "d35937f1-c6bc-455e-9cfe-b0bb28239495",
   "metadata": {},
   "outputs": [],
   "source": [
    "alp = alpha[np.where(potencias == np.max(potencias))[0][0]]"
   ]
  },
  {
   "cell_type": "code",
   "execution_count": 161,
   "id": "610db2cf-7955-4329-977d-9465598e5ad3",
   "metadata": {},
   "outputs": [
    {
     "data": {
      "text/plain": [
       "[40, 40, 20, 40, 40, 40]"
      ]
     },
     "execution_count": 161,
     "metadata": {},
     "output_type": "execute_result"
    }
   ],
   "source": [
    "alp"
   ]
  },
  {
   "cell_type": "code",
   "execution_count": 154,
   "id": "7ab79ec8-e233-4e0f-a8eb-721b8af444bf",
   "metadata": {},
   "outputs": [
    {
     "data": {
      "image/png": "[encoded data removed]",
      "text/plain": [
       "<Figure size 648x432 with 1 Axes>"
      ]
     },
     "metadata": {},
     "output_type": "display_data"
    }
   ],
   "source": [
    "plt.figure(figsize = (9,6))\n",
    "plt.axhline(y=0, color='black', linestyle='-')\n",
    "\n",
    "for i in range(len(alp)):\n",
    "    plot_placa_(alp[i],i,psi)\n",
    "plt.ylim([0,5])\n",
    "plt.xlim([0,A + (len(alp)-1)*s])\n",
    "plt.show()"
   ]
  },
  {
   "cell_type": "code",
   "execution_count": 12,
   "id": "6c3761fd-3da8-44d0-9bc7-910e2a80942a",
   "metadata": {},
   "outputs": [],
   "source": [
    "def plot_placa_(alpha,N,phi):\n",
    "    alpha = alpha*conv\n",
    "    phi = phi*conv\n",
    "    plt.vlines(x=N*s, ymin=0, ymax=h, linewidth=2, color='black')\n",
    "    \n",
    "    x = np.linspace(-0.5*A*cos(alpha),0.5*A*cos(alpha),100)     \n",
    "    y_ = tan(alpha)*x + h\n",
    "    \n",
    "    plt.plot(x+N*s,y_, linewidth=2, color='black')\n",
    "    \n",
    "    x_ = np.linspace(-100,100,100)\n",
    "    \n",
    "    plt.plot(x_ + N*s ,\n",
    "             -tan(phi)*x_ + y_[-1] + tan(phi)*x[-1],\n",
    "             linewidth=2, \n",
    "             color='orange',alpha = 0.3)"
   ]
  },
  {
   "cell_type": "code",
   "execution_count": 192,
   "id": "1c052e8a-923a-40aa-9665-e25a35125d35",
   "metadata": {},
   "outputs": [],
   "source": [
    "\n",
    "alp = [45,45,45,45,45,45]\n",
    "psi = 45\n",
    "\n",
    "def coste(alp):\n",
    "    I,J = [0],[0]\n",
    "    S = [1]\n",
    "\n",
    "    for i in range(len(alp)-1):\n",
    "        for j in range(i+1,len(alp)):\n",
    "            S.append(ratio(alp[i],alp[j],psi,(j-i)*s))\n",
    "            I.append(i)\n",
    "            J.append(j)\n",
    "            \n",
    "    ratios = pd.DataFrame({'i':I,'j':J,'S':S})\n",
    "    jun = np.unique(ratios.j)\n",
    "    \n",
    "    rt = []\n",
    "    for j in jun:\n",
    "        rt.append(np.min(ratios[ratios.j == j].S))\n",
    "    \n",
    "    P = 0\n",
    "    for i in range(len(alp)):\n",
    "        P += potencia_rat(rt[i],alp[i],psi)\n",
    "    return -P\n",
    "    # return [-P,S]"
   ]
  },
  {
   "cell_type": "code",
   "execution_count": 193,
   "id": "48c9c137-ec5e-4863-b776-ec1b3cdb711a",
   "metadata": {},
   "outputs": [],
   "source": [
    "from pymoo.algorithms.soo.nonconvex.ga import GA\n",
    "\n",
    "from pymoo.factory import get_problem\n",
    "from pymoo.optimize import minimize\n",
    "from pymoo.visualization.scatter import Scatter\n",
    "from pymoo.problems.functional import FunctionalProblem\n",
    "from pymoo.algorithms.moo.nsga2 import SimulatedBinaryCrossover\n",
    "from pymoo.algorithms.moo.nsga2 import PolynomialMutation\n",
    "from pymoo.util.termination.f_tol import MultiObjectiveSpaceToleranceTermination\n",
    "from pymoo.factory import get_problem, get_sampling, get_crossover, get_mutation"
   ]
  },
  {
   "cell_type": "code",
   "execution_count": 205,
   "id": "c8ed27ee-0897-4c69-bb28-4977b9570ff1",
   "metadata": {},
   "outputs": [],
   "source": [
    "n_placas = 5\n",
    "psi = 15\n",
    "xl = np.repeat(0,n_placas)\n",
    "xu = np.repeat(80,n_placas)\n",
    "\n",
    "problem = FunctionalProblem(n_placas,coste,xl=xl,xu=xu)\n",
    "\n",
    "\n",
    "algorithm = GA(pop_size=100,\n",
    "                  sampling=get_sampling('real_random'),\n",
    "                  crossover=get_crossover(\"real_sbx\", prob=0.9, eta=20),\n",
    "                  mutation=get_mutation(\"real_pm\", eta=10, prob=1.0),\n",
    "                  eliminate_duplicates=True)\n",
    "\n",
    "termination = MultiObjectiveSpaceToleranceTermination(tol=0.05,\n",
    "                                                      n_last=100,\n",
    "                                                      nth_gen=5,\n",
    "                                                      n_max_gen=1e14,\n",
    "                                                      n_max_evals=None)\n",
    "\n",
    "res = minimize(problem,\n",
    "               algorithm,\n",
    "               termination=termination,\n",
    "               seed=123,\n",
    "               save_history=False)"
   ]
  },
  {
   "cell_type": "code",
   "execution_count": 207,
   "id": "df4693c2-29e7-4d0d-8251-bb1c530e10d7",
   "metadata": {},
   "outputs": [
    {
     "data": {
      "image/png": "[encoded data removed]",
      "text/plain": [
       "<Figure size 648x432 with 1 Axes>"
      ]
     },
     "metadata": {},
     "output_type": "display_data"
    }
   ],
   "source": [
    "alp = res.X\n",
    "plt.figure(figsize = (9,6))\n",
    "plt.axhline(y=0, color='black', linestyle='-')\n",
    "\n",
    "for i in range(len(alp)):\n",
    "    plot_placa_(alp[i],i,psi)\n",
    "plt.ylim([0,5])\n",
    "plt.xlim([0,A + (len(alp)-1)*s])\n",
    "plt.show()"
   ]
  },
  {
   "cell_type": "code",
   "execution_count": null,
   "id": "b0390fe3-1430-400f-8d35-57a0f9d26bf0",
   "metadata": {},
   "outputs": [],
   "source": []
  }
 ],
 "metadata": {
  "kernelspec": {
   "display_name": "Python 3 (ipykernel)",
   "language": "python",
   "name": "python3"
  },
  "language_info": {
   "codemirror_mode": {
    "name": "ipython",
    "version": 3
   },
   "file_extension": ".py",
   "mimetype": "text/x-python",
   "name": "python",
   "nbconvert_exporter": "python",
   "pygments_lexer": "ipython3",
   "version": "3.9.7"
  }
 },
 "nbformat": 4,
 "nbformat_minor": 5
}
